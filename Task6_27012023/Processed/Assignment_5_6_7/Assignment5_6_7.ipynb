{
  "cells": [
    {
      "cell_type": "code",
      "execution_count": 125,
      "metadata": {
        "id": "5aYskmmZvAxf"
      },
      "outputs": [],
      "source": [
        "import pandas as pd\n",
        "import matplotlib.pyplot as plt\n",
        "import numpy as np\n",
        "from sklearn import linear_model\n",
        "from warnings import simplefilter\n",
        "simplefilter('ignore')"
      ]
    },
    {
      "cell_type": "markdown",
      "metadata": {
        "id": "rJSUEGkdvAxi"
      },
      "source": [
        "# Assignment5\n"
      ]
    },
    {
      "cell_type": "markdown",
      "metadata": {
        "id": "5p4JuON-vAxl"
      },
      "source": [
        "## Ground Cricket Chirps\n",
        "\n",
        "In _The Song of Insects_ (1948) by George W. Pierce, Pierce mechanically measured the frequency (the number of wing vibrations per second) of chirps (or pulses of sound) made by a striped ground cricket, at various ground temperatures.  Since crickets are ectotherms (cold-blooded), the rate of their physiological processes and their overall metabolism are influenced by temperature.  Consequently, there is reason to believe that temperature would have a profound effect on aspects of their behavior, such as chirp frequency.\n",
        "\n",
        "In general, it was found that crickets did not sing at temperatures colder than 60º F. or warmer than 100º F."
      ]
    },
    {
      "cell_type": "code",
      "execution_count": 126,
      "metadata": {
        "id": "Dz3_18QMvAxn"
      },
      "outputs": [],
      "source": [
        "ground_cricket_data = {\"Chirps/Second\": [20.0, 16.0, 19.8, 18.4, 17.1, 15.5, 14.7,\n",
        "                                         15.7, 15.4, 16.3, 15.0, 17.2, 16.0, 17.0,\n",
        "                                         14.4],\n",
        "                       \"Ground Temperature\": [88.6, 71.6, 93.3, 84.3, 80.6, 75.2, 69.7,\n",
        "                                              71.6, 69.4, 83.3, 79.6, 82.6, 80.6, 83.5,\n",
        "                                              76.3]}\n",
        "df = pd.DataFrame(ground_cricket_data)"
      ]
    },
    {
      "cell_type": "markdown",
      "metadata": {
        "id": "sWsJJ4wwvAxo"
      },
      "source": [
        "### Tasks\n",
        "\n",
        "1. Find the linear regression equation for this data.\n",
        "2. Chart the original data and the equation on the chart.\n",
        "3. Find the equation's $R^2$ score (use the `.score` method) to determine whether the\n",
        "equation is a good fit for this data. (0.8 and greater is considered a strong correlation.)\n",
        "4. Extrapolate data:  If the ground temperature reached 95, then at what approximate rate would you expect the crickets to be chirping?\n",
        "5. Interpolate data:  With a listening device, you discovered that on a particular morning the crickets were chirping at a rate of 18 chirps per second.  What was the approximate ground temperature that morning? "
      ]
    },
    {
      "cell_type": "code",
      "source": [
        "df\n",
        "reg=linear_model.LinearRegression()\n",
        "temp=df[['Ground Temperature']]\n",
        "chirp=df['Chirps/Second']\n",
        "reg.fit(temp,chirp)\n",
        "slope='{:.4f}'.format(reg.coef_[0])\n",
        "intercept='{:.4f}'.format(reg.intercept_)\n",
        "print(f'linear regression : y = {slope} * x + {intercept}')\n"
      ],
      "metadata": {
        "colab": {
          "base_uri": "https://localhost:8080/"
        },
        "id": "UdR27-gTwacP",
        "outputId": "f9f1ff49-075c-4b3c-c448-dd85ab51f64b"
      },
      "execution_count": 127,
      "outputs": [
        {
          "output_type": "stream",
          "name": "stdout",
          "text": [
            "linear regression : y = 0.2030 * x + 0.4593\n"
          ]
        }
      ]
    },
    {
      "cell_type": "code",
      "source": [
        "plt.scatter(temp,chirp)\n",
        "pred_temp=reg.predict(temp)\n",
        "plt.plot(temp,pred_temp,color='g')\n",
        "plt.show()"
      ],
      "metadata": {
        "id": "aKNDqaTQ0liJ",
        "colab": {
          "base_uri": "https://localhost:8080/",
          "height": 265
        },
        "outputId": "7bd900e6-3c92-40fe-919d-3979db5f44df"
      },
      "execution_count": 128,
      "outputs": [
        {
          "output_type": "display_data",
          "data": {
            "text/plain": [
              "<Figure size 432x288 with 1 Axes>"
            ],
            "image/png": "[encoded data removed]"
          },
          "metadata": {
            "needs_background": "light"
          }
        }
      ]
    },
    {
      "cell_type": "code",
      "source": [
        "r2='{:.4f}'.format(reg.score(temp,chirp))\n",
        "print(f'R2 score : {r2}')"
      ],
      "metadata": {
        "id": "0QqeCqIZ2IhA",
        "colab": {
          "base_uri": "https://localhost:8080/"
        },
        "outputId": "f14c3e07-9ad8-4014-df6f-145a3492dfc4"
      },
      "execution_count": 129,
      "outputs": [
        {
          "output_type": "stream",
          "name": "stdout",
          "text": [
            "R2 score : 0.6923\n"
          ]
        }
      ]
    },
    {
      "cell_type": "code",
      "source": [
        "chirps=reg.predict([[95]])[0]\n",
        "print('if ground temp is 95˚ then approx rate of chirping :{:.4f}'.format(chirps))"
      ],
      "metadata": {
        "id": "NAY3EXsv67SP",
        "colab": {
          "base_uri": "https://localhost:8080/"
        },
        "outputId": "3ac840f1-9685-4d58-8d42-d7a4ed415b2a"
      },
      "execution_count": 130,
      "outputs": [
        {
          "output_type": "stream",
          "name": "stdout",
          "text": [
            "if ground temp is 95˚ then approx rate of chirping :19.7443\n"
          ]
        }
      ]
    },
    {
      "cell_type": "code",
      "source": [
        "ground_temp='{:.1f}'.format(( 18 - reg.intercept_) / reg.coef_[0])\n",
        "print('crickets chirping rate of 18 chirps/sec so approx ground temp :'+str(ground_temp))"
      ],
      "metadata": {
        "id": "WVFy0TjyA2Q4",
        "colab": {
          "base_uri": "https://localhost:8080/"
        },
        "outputId": "dd6b5911-8092-419a-d410-a091202471a3"
      },
      "execution_count": 131,
      "outputs": [
        {
          "output_type": "stream",
          "name": "stdout",
          "text": [
            "crickets chirping rate of 18 chirps/sec so approx ground temp :86.4\n"
          ]
        }
      ]
    },
    {
      "cell_type": "markdown",
      "metadata": {
        "id": "hRnx7jfxvAxq"
      },
      "source": [
        "# Assignment6"
      ]
    },
    {
      "cell_type": "markdown",
      "metadata": {
        "id": "BtnX8jCYvAxr"
      },
      "source": [
        "## Brain vs. Body Weight\n",
        "\n",
        "In the file `brain_body.txt`, the average brain and body weight for a number of mammal species are recorded. Load this data into a Pandas data frame.\n",
        "\n",
        "### Tasks\n",
        "\n",
        "1. Find the linear regression equation for this data for brain weight to body weight.\n",
        "2. Chart the original data and the equation on the chart.\n",
        "3. Find the equation's $R^2$ score (use the `.score` method) to determine whether the\n",
        "equation is a good fit for this data. (0.8 and greater is considered a strong correlation.)"
      ]
    },
    {
      "cell_type": "code",
      "execution_count": 132,
      "metadata": {
        "id": "z_jffiF9vAxt",
        "colab": {
          "base_uri": "https://localhost:8080/"
        },
        "outputId": "2292d92b-ebe0-41b4-8541-9ce84be375c0"
      },
      "outputs": [
        {
          "output_type": "stream",
          "name": "stdout",
          "text": [
            "Linear Regression Equation : y = 0.9029 * x + (-56.8555) \n"
          ]
        }
      ],
      "source": [
        "df1 = pd.read_fwf(\"/content/drive/MyDrive/Task6/assignment_5_6_7/brain_body.txt\")\n",
        "reg_brbd=linear_model.LinearRegression()\n",
        "body_wt=df1[['Body']]\n",
        "brain_wt=df1['Brain']\n",
        "reg_brbd.fit(body_wt,brain_wt)\n",
        "brbd_slope='{:.4f}'.format(reg_brbd.coef_[0])\n",
        "brbd_intercept='{:.4f}'.format(reg_brbd.intercept_)\n",
        "print(f'Linear Regression Equation : y = {brbd_slope} * x + ({brbd_intercept}) ')"
      ]
    },
    {
      "cell_type": "code",
      "source": [
        "from google.colab import drive\n",
        "drive.mount('/content/drive')"
      ],
      "metadata": {
        "colab": {
          "base_uri": "https://localhost:8080/"
        },
        "id": "-AaST0w6VHz7",
        "outputId": "622dae68-c982-4cf3-f29a-946cbe2212be"
      },
      "execution_count": 133,
      "outputs": [
        {
          "output_type": "stream",
          "name": "stdout",
          "text": [
            "Drive already mounted at /content/drive; to attempt to forcibly remount, call drive.mount(\"/content/drive\", force_remount=True).\n"
          ]
        }
      ]
    },
    {
      "cell_type": "code",
      "source": [
        "ax=plt.scatter(body_wt,brain_wt)\n",
        "pred_body=reg_brbd.predict(body_wt)\n",
        "ax=plt.plot(body_wt,pred_body)\n",
        "plt.show()"
      ],
      "metadata": {
        "id": "61iYMNS2Kcjk",
        "colab": {
          "base_uri": "https://localhost:8080/",
          "height": 265
        },
        "outputId": "db827729-047c-403a-a46e-947396f72c90"
      },
      "execution_count": 134,
      "outputs": [
        {
          "output_type": "display_data",
          "data": {
            "text/plain": [
              "<Figure size 432x288 with 1 Axes>"
            ],
            "image/png": "[encoded data removed]"
          },
          "metadata": {
            "needs_background": "light"
          }
        }
      ]
    },
    {
      "cell_type": "code",
      "source": [
        "bdbr_R2=reg_brbd.score(body_wt,brain_wt)\n",
        "print(f\"R2 Score : {bdbr_R2}\")\n",
        "print(\"The equation is fit for this data because it has a strong correlation.\")"
      ],
      "metadata": {
        "id": "7dTR679SJCw5",
        "colab": {
          "base_uri": "https://localhost:8080/"
        },
        "outputId": "076a0808-15df-4673-84b5-65f05e8be7f7"
      },
      "execution_count": 135,
      "outputs": [
        {
          "output_type": "stream",
          "name": "stdout",
          "text": [
            "R2 Score : 0.8726620843043331\n",
            "The equation is fit for this data because it has a strong correlation.\n"
          ]
        }
      ]
    },
    {
      "cell_type": "markdown",
      "metadata": {
        "id": "dVCj5DpwvAxu"
      },
      "source": [
        "# Assignment7"
      ]
    },
    {
      "cell_type": "markdown",
      "metadata": {
        "id": "yyltThuPvAxw"
      },
      "source": [
        "## Salary Discrimination\n",
        "\n",
        "The file `salary.txt` contains data for 52 tenure-track professors at a small Midwestern college. This data was used in legal proceedings in the 1980s about discrimination against women in salary.\n",
        "\n",
        "The data in the file, by column:\n",
        "\n",
        "1. Sex. 1 for female, 0 for male.\n",
        "2. Rank. 1 for assistant professor, 2 for associate professor, 3 for full professor.\n",
        "3. Year. Number of years in current rank.\n",
        "4. Degree. Highest degree. 1 for doctorate, 0 for master's.\n",
        "5. YSdeg. Years since highest degree was earned.\n",
        "6. Salary. Salary/year in dollars.\n",
        "\n",
        "### Tasks\n",
        "\n",
        "1. Find the linear regression equation for this data using columns 1-5 to column 6.\n",
        "2. Find the selection of columns with the best $R^2$ score.\n",
        "3. Report whether sex is a factor in salary."
      ]
    },
    {
      "cell_type": "markdown",
      "source": [
        "Task 1:"
      ],
      "metadata": {
        "id": "lg5itCQI4UYR"
      }
    },
    {
      "cell_type": "code",
      "execution_count": 136,
      "metadata": {
        "id": "-es6l1tBvAxx",
        "colab": {
          "base_uri": "https://localhost:8080/"
        },
        "outputId": "5ee11d40-3ab4-4728-8607-12dd38eaae9f"
      },
      "outputs": [
        {
          "output_type": "stream",
          "name": "stdout",
          "text": [
            "Linear Regression Equation of columns :[ 1241.7924996   5586.18144952   482.85976783 -1331.64406341\n",
            "  -128.79057354] + 11410.14654725559\n"
          ]
        }
      ],
      "source": [
        "df2 = pd.read_fwf(\"/content/drive/MyDrive/Task6/assignment_5_6_7/salary.txt\", header=None, names=[\"Sex\", \"Rank\", \"Year\", \"Degree\", \"YSdeg\", \"Salary\"])\n",
        "independent=df2.iloc[:,:5]\n",
        "dependent=df2['Salary']\n",
        "sal_reg=linear_model.LinearRegression()\n",
        "sal_reg.fit(independent,dependent)\n",
        "sal_slope=sal_reg.coef_\n",
        "sal_intercept=sal_reg.intercept_\n",
        "print('Linear Regression Equation of columns :{} + {}'.format(sal_slope, sal_intercept) )"
      ]
    },
    {
      "cell_type": "markdown",
      "source": [
        "Task 2:\n"
      ],
      "metadata": {
        "id": "Hr218i094aS3"
      }
    },
    {
      "cell_type": "code",
      "source": [
        "\n",
        "from itertools import combinations\n",
        "\n",
        "col=[\"Sex\", \"Rank\", \"Year\", \"Degree\", \"YSdeg\"]\n",
        "comb=[]\n",
        "for i in range(1,len(col)+1):\n",
        "  for elem in list(combinations(col,i)):\n",
        "    comb.append(elem)\n",
        "l1=[]\n",
        "l2=[]\n",
        "for elem in comb[::-1]:\n",
        "  independent1=df2[list(elem)]\n",
        "  sal1_reg=linear_model.LinearRegression()\n",
        "  sal1_reg.fit(independent1,dependent)\n",
        "  sal_R2=sal1_reg.score(independent1,dependent) \n",
        "  l1.append(str(list(elem)))\n",
        "  l2.append(sal_R2)\n",
        "\n",
        "comb_list=pd.DataFrame([l1,l2])\n",
        "comb_list2=comb_list.T\n",
        "comb_list2.columns=['selected_columns','R2_score']\n",
        "comb_list2.sort_values(by=['R2_score'],ascending=False)\n",
        "val=comb_list2['R2_score'].max()\n",
        "res=comb_list2[comb_list2['R2_score']==val]\n",
        "result=res.values\n",
        "print('selection of columns ' +result[0,0]+ ' best R2 score is ' +str(result[0,1]))"
      ],
      "metadata": {
        "id": "gmwT_DsBH33Z",
        "colab": {
          "base_uri": "https://localhost:8080/"
        },
        "outputId": "dd41cf2e-5186-4e37-b858-2a2cb0595d58"
      },
      "execution_count": 137,
      "outputs": [
        {
          "output_type": "stream",
          "name": "stdout",
          "text": [
            "selection of columns ['Sex', 'Rank', 'Year', 'Degree', 'YSdeg'] best R2 score is 0.8547180674410969\n"
          ]
        }
      ]
    },
    {
      "cell_type": "markdown",
      "source": [
        "Task 3:"
      ],
      "metadata": {
        "id": "nuMumhSR4eMD"
      }
    },
    {
      "cell_type": "code",
      "source": [
        "s_count=df2.Sex.value_counts()\n",
        "m=s_count[0]\n",
        "f=s_count[1]\n",
        "print(f'Male   :{m}\\nFemale :{f}')"
      ],
      "metadata": {
        "id": "Q1aNkD8UOBO5",
        "colab": {
          "base_uri": "https://localhost:8080/"
        },
        "outputId": "a05754a5-69e9-4cd3-d479-0546c5f6f27e"
      },
      "execution_count": 138,
      "outputs": [
        {
          "output_type": "stream",
          "name": "stdout",
          "text": [
            "Male   :38\n",
            "Female :14\n"
          ]
        }
      ]
    },
    {
      "cell_type": "code",
      "source": [
        "\n",
        "pv=df2.pivot_table(index=df2.index,columns='Sex',values='Salary')\n",
        "pv.plot(kind='hist',alpha=0.7,bins=25,title='Salary by Sex',stacked=True)"
      ],
      "metadata": {
        "colab": {
          "base_uri": "https://localhost:8080/",
          "height": 298
        },
        "id": "0UiQRjqVZNkp",
        "outputId": "229ab98a-4a7a-4073-a328-b735dfb4f43b"
      },
      "execution_count": 139,
      "outputs": [
        {
          "output_type": "execute_result",
          "data": {
            "text/plain": [
              "<matplotlib.axes._subplots.AxesSubplot at 0x7f39c1c592e0>"
            ]
          },
          "metadata": {},
          "execution_count": 139
        },
        {
          "output_type": "display_data",
          "data": {
            "text/plain": [
              "<Figure size 432x288 with 1 Axes>"
            ],
            "image/png": "[encoded data removed]"
          },
          "metadata": {
            "needs_background": "light"
          }
        }
      ]
    },
    {
      "cell_type": "code",
      "source": [
        "pv1=df2.pivot_table(index=df2.index, columns='Sex', values='Rank')\n",
        "pv1.plot(kind='hist', alpha=0.6, stacked=True, title='Rank by Sex')\n",
        "plt.xticks([1,2,3])\n",
        "plt.xlabel('Rank')\n",
        "plt.ylabel('Faculty')\n",
        "plt.show()"
      ],
      "metadata": {
        "colab": {
          "base_uri": "https://localhost:8080/",
          "height": 295
        },
        "id": "0vXBiuykJfEG",
        "outputId": "1b84c2dd-1559-48c9-d23e-51b6beb4e4e2"
      },
      "execution_count": 140,
      "outputs": [
        {
          "output_type": "display_data",
          "data": {
            "text/plain": [
              "<Figure size 432x288 with 1 Axes>"
            ],
            "image/png": "[encoded data removed]"
          },
          "metadata": {
            "needs_background": "light"
          }
        }
      ]
    },
    {
      "cell_type": "code",
      "source": [
        "pv3= df2.pivot_table(index=df2.index, columns='Sex', values='Year')\n",
        "pv3.plot(kind='hist', alpha=0.7, stacked=True, bins=20,title='Years in Rank by Sex')\n",
        "plt.xlabel('Years')\n",
        "plt.ylabel('Faculty')\n",
        "plt.show()"
      ],
      "metadata": {
        "colab": {
          "base_uri": "https://localhost:8080/",
          "height": 295
        },
        "id": "8SF-KMEtMn7q",
        "outputId": "f4f1231c-2c5a-4bd2-f99f-3809c89d1a26"
      },
      "execution_count": 141,
      "outputs": [
        {
          "output_type": "display_data",
          "data": {
            "text/plain": [
              "<Figure size 432x288 with 1 Axes>"
            ],
            "image/png": "[encoded data removed]"
          },
          "metadata": {
            "needs_background": "light"
          }
        }
      ]
    },
    {
      "cell_type": "code",
      "source": [
        "df2_10 = df2[df2['Year'] <= 10]\n",
        "col=[\"Sex\", \"Rank\", \"Year\", \"Degree\", \"YSdeg\"]\n",
        "comb=[]\n",
        "for i in range(1,len(col)+1):\n",
        "  for elem in list(combinations(col,i)):\n",
        "    comb.append(elem)\n",
        "l1=[]\n",
        "l2=[]\n",
        "for elem in comb[::-1]:\n",
        "  independent1=df2[list(elem)]\n",
        "  independent1=df2.merge(df2_10,left_index=True,right_index=True,how='right',suffixes=('_x',''))\n",
        "  independent1=independent1[list(elem)]\n",
        "  sal1_reg=linear_model.LinearRegression()\n",
        "  sal1_reg.fit(independent1,df2_10['Salary'])\n",
        "  sal_R2=sal1_reg.score(independent1,df2_10['Salary']) \n",
        "  l1.append(str(list(elem)))\n",
        "  l2.append(sal_R2)\n",
        "\n",
        "comb_list=pd.DataFrame([l1,l2])\n",
        "comb_list2=comb_list.T\n",
        "comb_list2.columns=['selected_columns','R2_score']\n",
        "comb_list2.sort_values(by=['R2_score'],ascending=False)\n",
        "val=comb_list2['R2_score'].min()\n",
        "res=comb_list2[comb_list2['R2_score']==val]\n",
        "result=res.values\n",
        "print(\"'Sex' has no direct influences on 'Salary' , Score :\" +str(result[0,1]))"
      ],
      "metadata": {
        "colab": {
          "base_uri": "https://localhost:8080/"
        },
        "id": "10X3mi1FPVSm",
        "outputId": "b9d40b7c-8dc6-410e-d516-0c42cc83a9b2"
      },
      "execution_count": 173,
      "outputs": [
        {
          "output_type": "stream",
          "name": "stdout",
          "text": [
            "'Sex' has no direct influences on 'Salary' , Score :0.006877700561349731\n"
          ]
        }
      ]
    },
    {
      "cell_type": "code",
      "source": [
        "pv5=df2_10.pivot_table(index=df2_10.index, columns='Sex', values='Salary') \n",
        "pv5.plot(kind='hist', alpha=0.7, stacked=True, bins=20, title='Salary by Sex, Max 10 Years at Current Rank')\n",
        "plt.xlabel('Dollars')\n",
        "plt.ylabel('Faculty')\n",
        "plt.show()"
      ],
      "metadata": {
        "id": "hFmqFhmDRgWp",
        "colab": {
          "base_uri": "https://localhost:8080/",
          "height": 295
        },
        "outputId": "d677a269-88ef-47be-9eaa-9d226687cf63"
      },
      "execution_count": 175,
      "outputs": [
        {
          "output_type": "display_data",
          "data": {
            "text/plain": [
              "<Figure size 432x288 with 1 Axes>"
            ],
            "image/png": "[encoded data removed]"
          },
          "metadata": {
            "needs_background": "light"
          }
        }
      ]
    },
    {
      "cell_type": "code",
      "source": [
        "pv6=df2_10.pivot_table(index=df2_10.index, columns='Sex', values='Rank') \n",
        "pv6.plot(kind='hist', alpha=0.7, stacked=True,title='Rank by Sex, Max 10 Years at Current Rank')\n",
        "plt.xticks([1,2,3])\n",
        "plt.xlabel('Dollars')\n",
        "plt.ylabel('Faculty')\n",
        "plt.show()\n",
        "print('\\nThe data show that there is no direct salary discrimination by sex')"
      ],
      "metadata": {
        "colab": {
          "base_uri": "https://localhost:8080/",
          "height": 330
        },
        "id": "F72TfVwrxIg-",
        "outputId": "4a6235d9-041d-4a06-960e-d5e4d232eb6e"
      },
      "execution_count": 178,
      "outputs": [
        {
          "output_type": "display_data",
          "data": {
            "text/plain": [
              "<Figure size 432x288 with 1 Axes>"
            ],
            "image/png": "[encoded data removed]"
          },
          "metadata": {
            "needs_background": "light"
          }
        },
        {
          "output_type": "stream",
          "name": "stdout",
          "text": [
            "\n",
            "The data show that there is no direct salary discrimination by sex\n"
          ]
        }
      ]
    },
    {
      "cell_type": "code",
      "source": [
        "df2_10 = df2[df2['Year'] <= 10]\n",
        "col=[\"Sex\", \"Year\", \"Degree\", \"YSdeg\"]\n",
        "comb=[]\n",
        "for i in range(1,len(col)+1):\n",
        "  for elem in list(combinations(col,i)):\n",
        "    comb.append(elem)\n",
        "l1=[]\n",
        "l2=[]\n",
        "for elem in comb[::-1]:\n",
        "  independent1=df2[list(elem)]\n",
        "  independent1=df2.merge(df2_10,left_index=True,right_index=True,how='right',suffixes=('_x',''))\n",
        "  independent1=independent1[list(elem)]\n",
        "  sal1_reg=linear_model.LinearRegression()\n",
        "  sal1_reg.fit(independent1,df2_10['Rank'])\n",
        "  sal_R2=sal1_reg.score(independent1,df2_10['Rank']) \n",
        "  l1.append(str(list(elem)))\n",
        "  l2.append(sal_R2)\n",
        "\n",
        "comb_list=pd.DataFrame([l1,l2])\n",
        "comb_list2=comb_list.T\n",
        "comb_list2.columns=['selected_columns','R2_score']\n",
        "comb_list2.sort_values(by=['R2_score'],ascending=False)\n",
        "print(comb_list2)\n",
        "val=comb_list2['R2_score'].min()\n",
        "res=comb_list2[comb_list2['R2_score']==val]\n",
        "result=res.values\n",
        "print(\"\\nPresent rank for 10 years or less there is no correlation with Sex. There is no salary discrimination by Sex\")"
      ],
      "metadata": {
        "colab": {
          "base_uri": "https://localhost:8080/"
        },
        "id": "r5XX_HGGxgxO",
        "outputId": "93498a08-d2d3-4459-c5bb-442935de531b"
      },
      "execution_count": 186,
      "outputs": [
        {
          "output_type": "stream",
          "name": "stdout",
          "text": [
            "                      selected_columns  R2_score\n",
            "0   ['Sex', 'Year', 'Degree', 'YSdeg']  0.668478\n",
            "1          ['Year', 'Degree', 'YSdeg']  0.612324\n",
            "2           ['Sex', 'Degree', 'YSdeg']  0.665084\n",
            "3             ['Sex', 'Year', 'YSdeg']  0.516957\n",
            "4            ['Sex', 'Year', 'Degree']  0.177544\n",
            "5                  ['Degree', 'YSdeg']  0.612104\n",
            "6                    ['Year', 'YSdeg']  0.484873\n",
            "7                   ['Year', 'Degree']  0.176131\n",
            "8                     ['Sex', 'YSdeg']  0.516918\n",
            "9                    ['Sex', 'Degree']  0.016345\n",
            "10                     ['Sex', 'Year']  0.176416\n",
            "11                           ['YSdeg']  0.482576\n",
            "12                          ['Degree']  0.003604\n",
            "13                            ['Year']  0.175024\n",
            "14                             ['Sex']  0.013387\n",
            "\n",
            "Present rank for 10 years or less there is no correlation with Sex. There is no salary discrimination by Sex\n"
          ]
        }
      ]
    },
    {
      "cell_type": "code",
      "source": [],
      "metadata": {
        "id": "o2Wcx0WKyRtP"
      },
      "execution_count": null,
      "outputs": []
    }
  ],
  "metadata": {
    "kernelspec": {
      "display_name": "Python 3",
      "language": "python",
      "name": "python3"
    },
    "language_info": {
      "codemirror_mode": {
        "name": "ipython",
        "version": 3
      },
      "file_extension": ".py",
      "mimetype": "text/x-python",
      "name": "python",
      "nbconvert_exporter": "python",
      "pygments_lexer": "ipython3",
      "version": "3.8.3"
    },
    "colab": {
      "provenance": []
    }
  },
  "nbformat": 4,
  "nbformat_minor": 0
}